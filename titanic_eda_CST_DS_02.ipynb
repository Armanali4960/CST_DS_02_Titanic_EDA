{
 "cells": [
  {
   "cell_type": "markdown",
   "id": "feface7e",
   "metadata": {},
   "source": [
    "# Titanic Dataset – EDA (Task Code: CST_DS_02)"
   ]
  },
  {
   "cell_type": "markdown",
   "id": "35a89873",
   "metadata": {},
   "source": [
    "This notebook performs data cleaning and exploratory data analysis (EDA) on the Titanic dataset as part of my Data Science Internship at SkillCraft Technology."
   ]
  },
  {
   "cell_type": "code",
   "execution_count": null,
   "id": "7acd0e71",
   "metadata": {},
   "outputs": [],
   "source": [
    "import pandas as pd\n",
    "import numpy as np\n",
    "import matplotlib.pyplot as plt\n",
    "import seaborn as sns\n",
    "\n",
    "sns.set(style='whitegrid')"
   ]
  },
  {
   "cell_type": "code",
   "execution_count": null,
   "id": "17a9aa8a",
   "metadata": {},
   "outputs": [],
   "source": [
    "df = pd.read_csv('titanic.csv')  # Make sure titanic.csv is in the same folder\n",
    "df.head()"
   ]
  },
  {
   "cell_type": "markdown",
   "id": "8d8990e3",
   "metadata": {},
   "source": [
    "## Basic Info & Missing Values"
   ]
  },
  {
   "cell_type": "code",
   "execution_count": null,
   "id": "69ed7a09",
   "metadata": {},
   "outputs": [],
   "source": [
    "df.info()\n",
    "df.isnull().sum()"
   ]
  },
  {
   "cell_type": "markdown",
   "id": "8246bb3e",
   "metadata": {},
   "source": [
    "## Data Cleaning"
   ]
  },
  {
   "cell_type": "code",
   "execution_count": null,
   "id": "2576341f",
   "metadata": {},
   "outputs": [],
   "source": [
    "# Fill missing Age with median\n",
    "df['Age'].fillna(df['Age'].median(), inplace=True)\n",
    "\n",
    "# Fill missing Embarked with mode\n",
    "df['Embarked'].fillna(df['Embarked'].mode()[0], inplace=True)\n",
    "\n",
    "# Drop 'Cabin' due to too many missing values\n",
    "df.drop(columns=['Cabin'], inplace=True)"
   ]
  },
  {
   "cell_type": "markdown",
   "id": "506b7fec",
   "metadata": {},
   "source": [
    "## Summary Statistics"
   ]
  },
  {
   "cell_type": "code",
   "execution_count": null,
   "id": "f7b1b104",
   "metadata": {},
   "outputs": [],
   "source": [
    "df.describe()"
   ]
  },
  {
   "cell_type": "markdown",
   "id": "c19fbbd8",
   "metadata": {},
   "source": [
    "## Univariate Analysis"
   ]
  },
  {
   "cell_type": "code",
   "execution_count": null,
   "id": "f1bcd0a2",
   "metadata": {},
   "outputs": [],
   "source": [
    "sns.countplot(data=df, x='Survived')\n",
    "plt.title('Survival Count')\n",
    "plt.show()"
   ]
  },
  {
   "cell_type": "code",
   "execution_count": null,
   "id": "d290ac3c",
   "metadata": {},
   "outputs": [],
   "source": [
    "sns.countplot(data=df, x='Pclass')\n",
    "plt.title('Passenger Class Distribution')\n",
    "plt.show()"
   ]
  },
  {
   "cell_type": "code",
   "execution_count": null,
   "id": "eaf400ee",
   "metadata": {},
   "outputs": [],
   "source": [
    "df['Age'].plot.hist(bins=30, edgecolor='black')\n",
    "plt.title('Age Distribution')\n",
    "plt.xlabel('Age')\n",
    "plt.show()"
   ]
  },
  {
   "cell_type": "markdown",
   "id": "f7f63309",
   "metadata": {},
   "source": [
    "## Bivariate Analysis"
   ]
  },
  {
   "cell_type": "code",
   "execution_count": null,
   "id": "f2a733e5",
   "metadata": {},
   "outputs": [],
   "source": [
    "sns.countplot(data=df, x='Sex', hue='Survived')\n",
    "plt.title('Survival by Gender')\n",
    "plt.show()"
   ]
  },
  {
   "cell_type": "code",
   "execution_count": null,
   "id": "3e80a2ad",
   "metadata": {},
   "outputs": [],
   "source": [
    "sns.countplot(data=df, x='Pclass', hue='Survived')\n",
    "plt.title('Survival by Class')\n",
    "plt.show()"
   ]
  },
  {
   "cell_type": "code",
   "execution_count": null,
   "id": "6d0b8381",
   "metadata": {},
   "outputs": [],
   "source": [
    "sns.boxplot(data=df, x='Survived', y='Age')\n",
    "plt.title('Age vs Survival')\n",
    "plt.show()"
   ]
  },
  {
   "cell_type": "markdown",
   "id": "9907f083",
   "metadata": {},
   "source": [
    "## Correlation Heatmap"
   ]
  },
  {
   "cell_type": "code",
   "execution_count": null,
   "id": "46d77332",
   "metadata": {},
   "outputs": [],
   "source": [
    "plt.figure(figsize=(10, 6))\n",
    "sns.heatmap(df.corr(), annot=True, cmap='coolwarm')\n",
    "plt.title('Correlation Heatmap')\n",
    "plt.show()"
   ]
  }
 ],
 "metadata": {},
 "nbformat": 4,
 "nbformat_minor": 5
}
